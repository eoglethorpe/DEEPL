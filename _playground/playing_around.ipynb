{
 "cells": [
  {
   "cell_type": "code",
   "execution_count": 40,
   "metadata": {},
   "outputs": [],
   "source": [
    "import numpy as np\n",
    "import pandas as pd\n",
    "%matplotlib inline"
   ]
  },
  {
   "cell_type": "code",
   "execution_count": 41,
   "metadata": {},
   "outputs": [],
   "source": [
    "df = pd.read_csv('nlp/nlp_out.csv')"
   ]
  },
  {
   "cell_type": "code",
   "execution_count": 42,
   "metadata": {},
   "outputs": [
    {
     "data": {
      "text/html": [
       "<div>\n",
       "<style>\n",
       "    .dataframe thead tr:only-child th {\n",
       "        text-align: right;\n",
       "    }\n",
       "\n",
       "    .dataframe thead th {\n",
       "        text-align: left;\n",
       "    }\n",
       "\n",
       "    .dataframe tbody tr th {\n",
       "        vertical-align: top;\n",
       "    }\n",
       "</style>\n",
       "<table border=\"1\" class=\"dataframe\">\n",
       "  <thead>\n",
       "    <tr style=\"text-align: right;\">\n",
       "      <th></th>\n",
       "      <th>onedim_j</th>\n",
       "      <th>severity</th>\n",
       "    </tr>\n",
       "  </thead>\n",
       "  <tbody>\n",
       "    <tr>\n",
       "      <th>0</th>\n",
       "      <td>{\"Population Profile\": [\"Demographic Profile\"]}</td>\n",
       "      <td>Situation of Concern</td>\n",
       "    </tr>\n",
       "    <tr>\n",
       "      <th>1</th>\n",
       "      <td>null</td>\n",
       "      <td>Severe Conditions</td>\n",
       "    </tr>\n",
       "    <tr>\n",
       "      <th>2</th>\n",
       "      <td>null</td>\n",
       "      <td>Severe Conditions</td>\n",
       "    </tr>\n",
       "    <tr>\n",
       "      <th>3</th>\n",
       "      <td>null</td>\n",
       "      <td>Severe Conditions</td>\n",
       "    </tr>\n",
       "    <tr>\n",
       "      <th>4</th>\n",
       "      <td>null</td>\n",
       "      <td>Situation of Concern</td>\n",
       "    </tr>\n",
       "  </tbody>\n",
       "</table>\n",
       "</div>"
      ],
      "text/plain": [
       "                                          onedim_j              severity\n",
       "0  {\"Population Profile\": [\"Demographic Profile\"]}  Situation of Concern\n",
       "1                                             null     Severe Conditions\n",
       "2                                             null     Severe Conditions\n",
       "3                                             null     Severe Conditions\n",
       "4                                             null  Situation of Concern"
      ]
     },
     "execution_count": 42,
     "metadata": {},
     "output_type": "execute_result"
    }
   ],
   "source": [
    "df[['onedim_j', 'severity']][:5]"
   ]
  },
  {
   "cell_type": "code",
   "execution_count": 19,
   "metadata": {},
   "outputs": [],
   "source": [
    "severity_counts = df['severity'].value_counts()"
   ]
  },
  {
   "cell_type": "code",
   "execution_count": 23,
   "metadata": {},
   "outputs": [
    {
     "data": {
      "text/plain": [
       "<matplotlib.axes._subplots.AxesSubplot at 0x7f672cd2bc50>"
      ]
     },
     "execution_count": 23,
     "metadata": {},
     "output_type": "execute_result"
    },
    {
     "data": {
      "image/png": "[encoded data removed]",
      "text/plain": [
       "<matplotlib.figure.Figure at 0x7f6736e21940>"
      ]
     },
     "metadata": {},
     "output_type": "display_data"
    }
   ],
   "source": [
    "severity_counts.plot(kind='bar')"
   ]
  },
  {
   "cell_type": "code",
   "execution_count": 44,
   "metadata": {},
   "outputs": [],
   "source": [
    "sev_conditions = df[df['severity'] == 'Severe Conditions']"
   ]
  },
  {
   "cell_type": "code",
   "execution_count": 47,
   "metadata": {},
   "outputs": [
    {
     "data": {
      "text/html": [
       "<div>\n",
       "<style>\n",
       "    .dataframe thead tr:only-child th {\n",
       "        text-align: right;\n",
       "    }\n",
       "\n",
       "    .dataframe thead th {\n",
       "        text-align: left;\n",
       "    }\n",
       "\n",
       "    .dataframe tbody tr th {\n",
       "        vertical-align: top;\n",
       "    }\n",
       "</style>\n",
       "<table border=\"1\" class=\"dataframe\">\n",
       "  <thead>\n",
       "    <tr style=\"text-align: right;\">\n",
       "      <th></th>\n",
       "      <th>onedim_j</th>\n",
       "      <th>twodim_j</th>\n",
       "      <th>reliability</th>\n",
       "      <th>severity</th>\n",
       "      <th>demo_groups_j</th>\n",
       "      <th>specific_needs_j</th>\n",
       "      <th>aff_groups_j</th>\n",
       "      <th>geo_j</th>\n",
       "      <th>info_date</th>\n",
       "      <th>excerpt</th>\n",
       "      <th>has_image</th>\n",
       "      <th>lead_text</th>\n",
       "      <th>lead_id</th>\n",
       "      <th>lead_url</th>\n",
       "      <th>event</th>\n",
       "    </tr>\n",
       "  </thead>\n",
       "  <tbody>\n",
       "    <tr>\n",
       "      <th>1</th>\n",
       "      <td>null</td>\n",
       "      <td>[{\"sector\": \"Nutrition\", \"subsectors\": [\"Breas...</td>\n",
       "      <td>Usually</td>\n",
       "      <td>Severe Conditions</td>\n",
       "      <td>[\"Infants/toddlers (&lt; 5 years old)\"]</td>\n",
       "      <td>null</td>\n",
       "      <td>[\"Affected\"]</td>\n",
       "      <td>null</td>\n",
       "      <td>2016-11-15</td>\n",
       "      <td>112,500 children under five are at risk of acu...</td>\n",
       "      <td>True</td>\n",
       "      <td>None</td>\n",
       "      <td>4</td>\n",
       "      <td>http://reliefweb.int/sites/reliefweb.int/files...</td>\n",
       "      <td>Test Event</td>\n",
       "    </tr>\n",
       "  </tbody>\n",
       "</table>\n",
       "</div>"
      ],
      "text/plain": [
       "  onedim_j                                           twodim_j reliability  \\\n",
       "1     null  [{\"sector\": \"Nutrition\", \"subsectors\": [\"Breas...     Usually   \n",
       "\n",
       "            severity                         demo_groups_j specific_needs_j  \\\n",
       "1  Severe Conditions  [\"Infants/toddlers (< 5 years old)\"]             null   \n",
       "\n",
       "   aff_groups_j geo_j   info_date  \\\n",
       "1  [\"Affected\"]  null  2016-11-15   \n",
       "\n",
       "                                             excerpt  has_image lead_text  \\\n",
       "1  112,500 children under five are at risk of acu...       True      None   \n",
       "\n",
       "   lead_id                                           lead_url       event  \n",
       "1        4  http://reliefweb.int/sites/reliefweb.int/files...  Test Event  "
      ]
     },
     "execution_count": 47,
     "metadata": {},
     "output_type": "execute_result"
    }
   ],
   "source": [
    "sev_conditions[:1]"
   ]
  },
  {
   "cell_type": "code",
   "execution_count": 30,
   "metadata": {},
   "outputs": [
    {
     "data": {
      "text/plain": [
       "Index(['onedim_j', 'twodim_j', 'demo_groups_j', 'specific_needs_j',\n",
       "       'aff_groups_j', 'geo_j'],\n",
       "      dtype='object')"
      ]
     },
     "execution_count": 30,
     "metadata": {},
     "output_type": "execute_result"
    }
   ],
   "source": [
    "df.filter(like='_j').columns"
   ]
  },
  {
   "cell_type": "code",
   "execution_count": 8,
   "metadata": {},
   "outputs": [],
   "source": [
    "################ NLTK playing around\n",
    "import nltk\n",
    "from nltk.corpus import names"
   ]
  },
  {
   "cell_type": "code",
   "execution_count": 9,
   "metadata": {},
   "outputs": [],
   "source": [
    "labeled_names = [(name, \"male\") for name in names.words('male.txt')] + [(name, \"female\") for name in names.words('female.txt')]"
   ]
  },
  {
   "cell_type": "code",
   "execution_count": 5,
   "metadata": {},
   "outputs": [],
   "source": [
    "import random\n",
    "def train_corpus(corpus, feature_function):\n",
    "    \"\"\"Returns a classifier and its accuracy based on the corpus and feature function\"\"\"\n",
    "    # TODO: set option for uniform sampling of all groups or just sample randomly without considering \n",
    "    random.shuffle(corpus)\n",
    "    feature_sets = [(feature_function(n), label) for (n, label) in corpus]\n",
    "    train_set, test_set = feature_sets[500:], feature_sets[:500]\n",
    "    classifier = nltk.NaiveBayesClassifier.train(train_set)\n",
    "    accuracy = nltk.classify.accuracy(classifier, test_set)\n",
    "    return classifier, accuracy"
   ]
  },
  {
   "cell_type": "code",
   "execution_count": 6,
   "metadata": {},
   "outputs": [],
   "source": [
    "def gender_feature_1(name):\n",
    "    return {'first': name[0], 'last':name[-1]}\n",
    "def gender_feature_2(name):\n",
    "    return {'last':name[-1]}"
   ]
  },
  {
   "cell_type": "code",
   "execution_count": 10,
   "metadata": {},
   "outputs": [],
   "source": [
    "# Get classifiers\n",
    "classifier1, accuracy1 = train_corpus(labeled_names, gender_feature_1)\n",
    "classifier2, accuracy2 = train_corpus(labeled_names, gender_feature_2)\n",
    "# Get features for carol\n",
    "carol_f1 = gender_feature_1('carol')\n",
    "carol_f2 = gender_feature_2('carol')"
   ]
  },
  {
   "cell_type": "code",
   "execution_count": 30,
   "metadata": {},
   "outputs": [],
   "source": [
    "def get_classification_probs(classifier, features):\n",
    "    \"\"\"Returns list of tuples containing labelname and probability\"\"\"\n",
    "    dist = classifier.prob_classify(features)\n",
    "    return [(label, dist.prob(label)) for label in dist.samples()]"
   ]
  },
  {
   "cell_type": "code",
   "execution_count": 35,
   "metadata": {},
   "outputs": [
    {
     "name": "stdout",
     "output_type": "stream",
     "text": [
      "[('female', 0.47841239233277494), ('male', 0.5215876076672253)]\n",
      "[('female', 0.36440393622717915), ('male', 0.635596063772822)]\n"
     ]
    }
   ],
   "source": [
    "print(get_classification_probs(classifier2, carol_f2))\n",
    "print(get_classification_probs(classifier1, carol_f1))"
   ]
  },
  {
   "cell_type": "code",
   "execution_count": 12,
   "metadata": {},
   "outputs": [],
   "source": [
    "import pickle\n",
    "f= open('classifier.object', 'wb')\n",
    "pickle.dump(classifier1, f)\n",
    "f.close()"
   ]
  },
  {
   "cell_type": "code",
   "execution_count": 13,
   "metadata": {},
   "outputs": [
    {
     "ename": "TypeError",
     "evalue": "__init__() missing 2 required positional arguments: 'label_probdist' and 'feature_probdist'",
     "output_type": "error",
     "traceback": [
      "\u001b[0;31m---------------------------------------------------------------------------\u001b[0m",
      "\u001b[0;31mTypeError\u001b[0m                                 Traceback (most recent call last)",
      "\u001b[0;32m<ipython-input-13-33d9fb5ee4df>\u001b[0m in \u001b[0;36m<module>\u001b[0;34m()\u001b[0m\n\u001b[0;32m----> 1\u001b[0;31m \u001b[0mc\u001b[0m \u001b[0;34m=\u001b[0m\u001b[0mnltk\u001b[0m\u001b[0;34m.\u001b[0m\u001b[0mNaiveBayesClassifier\u001b[0m\u001b[0;34m(\u001b[0m\u001b[0;34m)\u001b[0m\u001b[0;34m\u001b[0m\u001b[0m\n\u001b[0m\u001b[1;32m      2\u001b[0m \u001b[0mc\u001b[0m\u001b[0;34m.\u001b[0m\u001b[0mclassify\u001b[0m\u001b[0;34m(\u001b[0m\u001b[0;34m'bibek'\u001b[0m\u001b[0;34m)\u001b[0m\u001b[0;34m\u001b[0m\u001b[0m\n",
      "\u001b[0;31mTypeError\u001b[0m: __init__() missing 2 required positional arguments: 'label_probdist' and 'feature_probdist'"
     ]
    }
   ],
   "source": [
    "c =nltk.NaiveBayesClassifier()\n",
    "c.classify('bibek')"
   ]
  }
 ],
 "metadata": {
  "kernelspec": {
   "display_name": "Python3 (.env)",
   "language": "python",
   "name": ".env"
  },
  "language_info": {
   "codemirror_mode": {
    "name": "ipython",
    "version": 3
   },
   "file_extension": ".py",
   "mimetype": "text/x-python",
   "name": "python",
   "nbconvert_exporter": "python",
   "pygments_lexer": "ipython3",
   "version": "3.6.3"
  }
 },
 "nbformat": 4,
 "nbformat_minor": 2
}
